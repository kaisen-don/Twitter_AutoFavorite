{
 "cells": [
  {
   "cell_type": "code",
   "execution_count": null,
   "metadata": {},
   "outputs": [],
   "source": [
    "# tweepyのインストール\n",
    "!pip install tweepy"
   ]
  },
  {
   "cell_type": "code",
   "execution_count": null,
   "metadata": {},
   "outputs": [],
   "source": [
    "# ①ライブラリをインポート\n",
    "import tweepy\n",
    "\n",
    "# ②TwiterAPIの認証情報\n",
    "api_key = '自分のapi_key'\n",
    "api_secret = '自分のapi_secret'\n",
    "access_token = '自分のaccess_token'\n",
    "access_token_secret = '自分のaccess_token_secret'\n",
    "\n",
    "# ③APIを取得\n",
    "auth = tweepy.OAuthHandler(api_key, api_secret)\n",
    "auth.set_access_token(access_token, access_token_secret)\n",
    "api = tweepy.API(auth)\n",
    "\n",
    "# ④ツイートを検索\n",
    "# result_type=ツイートの種類(最新・話題など),count=いいねする数\n",
    "search_results = api.search(q=\"検索したいキーワードを入力\", result_type=\"recent\", count=100)\n",
    "\n",
    "# ⑤検索結果のツイートを1つずつ取り出す\n",
    "for result in search_results:\n",
    "# ⑥取り出したツイートのIDを取得\n",
    "    tweet_id = result.id\n",
    "# ⑦ツイートしたユーザーのスクリーンネームを取得\n",
    "    user_id = result.user.screen_name\n",
    "# ⑧if文で自分のツイートは除外\n",
    "    if user_id != 'kaisendon_1206':\n",
    "# ⑨取り出したIDのツイートをいいね\n",
    "        try:\n",
    "            api.create_favorite(tweet_id)\n",
    "# ⑩いいねに失敗した場合エラーメッセージを表示\n",
    "        except Exception as e:\n",
    "            print(e)"
   ]
  },
  {
   "cell_type": "code",
   "execution_count": null,
   "metadata": {},
   "outputs": [],
   "source": []
  }
 ],
 "metadata": {
  "kernelspec": {
   "display_name": "Python 3",
   "language": "python",
   "name": "python3"
  },
  "language_info": {
   "codemirror_mode": {
    "name": "ipython",
    "version": 3
   },
   "file_extension": ".py",
   "mimetype": "text/x-python",
   "name": "python",
   "nbconvert_exporter": "python",
   "pygments_lexer": "ipython3",
   "version": "3.7.4"
  }
 },
 "nbformat": 4,
 "nbformat_minor": 2
}
